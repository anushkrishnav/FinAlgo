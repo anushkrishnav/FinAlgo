{
  "nbformat": 4,
  "nbformat_minor": 0,
  "metadata": {
    "colab": {
      "name": "Stock_Price_Keras.ipynb",
      "provenance": [],
      "collapsed_sections": [],
      "authorship_tag": "ABX9TyOdHuYOworSq6Am++wBa7qL",
      "include_colab_link": true
    },
    "kernelspec": {
      "name": "python3",
      "display_name": "Python 3"
    },
    "language_info": {
      "name": "python"
    }
  },
  "cells": [
    {
      "cell_type": "markdown",
      "metadata": {
        "id": "view-in-github",
        "colab_type": "text"
      },
      "source": [
        "<a href=\"https://colab.research.google.com/github/anushkrishnav/FinAlgo/blob/main/LSTM/Keras/Stock_Price_Keras.ipynb\" target=\"_parent\"><img src=\"https://colab.research.google.com/assets/colab-badge.svg\" alt=\"Open In Colab\"/></a>"
      ]
    },
    {
      "cell_type": "code",
      "metadata": {
        "colab": {
          "base_uri": "https://localhost:8080/"
        },
        "id": "IJhR53xz_4MN",
        "outputId": "80e68a9e-bfbc-4721-c27b-a3fc5a27c3cc"
      },
      "source": [
        "!pip3 install yfinance"
      ],
      "execution_count": 3,
      "outputs": [
        {
          "output_type": "stream",
          "text": [
            "Collecting yfinance\n",
            "  Downloading https://files.pythonhosted.org/packages/a7/ee/315752b9ef281ba83c62aa7ec2e2074f85223da6e7e74efb4d3e11c0f510/yfinance-0.1.59.tar.gz\n",
            "Requirement already satisfied: pandas>=0.24 in /usr/local/lib/python3.7/dist-packages (from yfinance) (1.1.5)\n",
            "Requirement already satisfied: numpy>=1.15 in /usr/local/lib/python3.7/dist-packages (from yfinance) (1.19.5)\n",
            "Requirement already satisfied: requests>=2.20 in /usr/local/lib/python3.7/dist-packages (from yfinance) (2.23.0)\n",
            "Requirement already satisfied: multitasking>=0.0.7 in /usr/local/lib/python3.7/dist-packages (from yfinance) (0.0.9)\n",
            "Collecting lxml>=4.5.1\n",
            "\u001b[?25l  Downloading https://files.pythonhosted.org/packages/30/c0/d0526314971fc661b083ab135747dc68446a3022686da8c16d25fcf6ef07/lxml-4.6.3-cp37-cp37m-manylinux2014_x86_64.whl (6.3MB)\n",
            "\u001b[K     |████████████████████████████████| 6.3MB 3.6MB/s \n",
            "\u001b[?25hRequirement already satisfied: python-dateutil>=2.7.3 in /usr/local/lib/python3.7/dist-packages (from pandas>=0.24->yfinance) (2.8.1)\n",
            "Requirement already satisfied: pytz>=2017.2 in /usr/local/lib/python3.7/dist-packages (from pandas>=0.24->yfinance) (2018.9)\n",
            "Requirement already satisfied: urllib3!=1.25.0,!=1.25.1,<1.26,>=1.21.1 in /usr/local/lib/python3.7/dist-packages (from requests>=2.20->yfinance) (1.24.3)\n",
            "Requirement already satisfied: certifi>=2017.4.17 in /usr/local/lib/python3.7/dist-packages (from requests>=2.20->yfinance) (2020.12.5)\n",
            "Requirement already satisfied: chardet<4,>=3.0.2 in /usr/local/lib/python3.7/dist-packages (from requests>=2.20->yfinance) (3.0.4)\n",
            "Requirement already satisfied: idna<3,>=2.5 in /usr/local/lib/python3.7/dist-packages (from requests>=2.20->yfinance) (2.10)\n",
            "Requirement already satisfied: six>=1.5 in /usr/local/lib/python3.7/dist-packages (from python-dateutil>=2.7.3->pandas>=0.24->yfinance) (1.15.0)\n",
            "Building wheels for collected packages: yfinance\n",
            "  Building wheel for yfinance (setup.py) ... \u001b[?25l\u001b[?25hdone\n",
            "  Created wheel for yfinance: filename=yfinance-0.1.59-py2.py3-none-any.whl size=23455 sha256=730caba4057fecfaf08af3811d7fe57bb7ed36a94ab1aa29cdfda242ea7353e1\n",
            "  Stored in directory: /root/.cache/pip/wheels/f8/2a/0f/4b5a86e1d52e451757eb6bc17fd899629f0925c777741b6d04\n",
            "Successfully built yfinance\n",
            "Installing collected packages: lxml, yfinance\n",
            "  Found existing installation: lxml 4.2.6\n",
            "    Uninstalling lxml-4.2.6:\n",
            "      Successfully uninstalled lxml-4.2.6\n",
            "Successfully installed lxml-4.6.3 yfinance-0.1.59\n"
          ],
          "name": "stdout"
        }
      ]
    },
    {
      "cell_type": "code",
      "metadata": {
        "id": "VXS9FqM2-zFn"
      },
      "source": [
        "import pandas as pd\n",
        "import numpy as np\n",
        "import tensorflow as tf \n",
        "import matplotlib.pyplot as plt\n",
        "import time\n",
        "import yfinance as yf"
      ],
      "execution_count": 5,
      "outputs": []
    },
    {
      "cell_type": "markdown",
      "metadata": {
        "id": "1DweePsp_I3a"
      },
      "source": [
        "Stock forecating using Hourly Data using Keras and Tensorflow (LSTM-RNN)"
      ]
    },
    {
      "cell_type": "code",
      "metadata": {
        "colab": {
          "base_uri": "https://localhost:8080/"
        },
        "id": "eqveCTmz-4s_",
        "outputId": "f34b7f28-0c06-4da3-de78-79e1551a4359"
      },
      "source": [
        "df = yf.download(tickers='MSFT',period='1y',interval='60m')"
      ],
      "execution_count": 6,
      "outputs": [
        {
          "output_type": "stream",
          "text": [
            "\r[*********************100%***********************]  1 of 1 completed\n"
          ],
          "name": "stdout"
        }
      ]
    },
    {
      "cell_type": "code",
      "metadata": {
        "colab": {
          "base_uri": "https://localhost:8080/"
        },
        "id": "PCwmXGmOC7r0",
        "outputId": "bb783f70-c9df-4523-9006-eda6072ac58f"
      },
      "source": [
        "df.info()"
      ],
      "execution_count": 7,
      "outputs": [
        {
          "output_type": "stream",
          "text": [
            "<class 'pandas.core.frame.DataFrame'>\n",
            "DatetimeIndex: 1757 entries, 2020-06-10 09:30:00-04:00 to 2021-06-09 15:30:00-04:00\n",
            "Data columns (total 6 columns):\n",
            " #   Column     Non-Null Count  Dtype  \n",
            "---  ------     --------------  -----  \n",
            " 0   Open       1757 non-null   float64\n",
            " 1   High       1757 non-null   float64\n",
            " 2   Low        1757 non-null   float64\n",
            " 3   Close      1757 non-null   float64\n",
            " 4   Adj Close  1757 non-null   float64\n",
            " 5   Volume     1757 non-null   int64  \n",
            "dtypes: float64(5), int64(1)\n",
            "memory usage: 96.1 KB\n"
          ],
          "name": "stdout"
        }
      ]
    },
    {
      "cell_type": "code",
      "metadata": {
        "colab": {
          "base_uri": "https://localhost:8080/",
          "height": 235
        },
        "id": "N1mWiubvC_cQ",
        "outputId": "37020a76-e485-4ecf-9811-f387c123d1ca"
      },
      "source": [
        "df.head()"
      ],
      "execution_count": 8,
      "outputs": [
        {
          "output_type": "execute_result",
          "data": {
            "text/html": [
              "<div>\n",
              "<style scoped>\n",
              "    .dataframe tbody tr th:only-of-type {\n",
              "        vertical-align: middle;\n",
              "    }\n",
              "\n",
              "    .dataframe tbody tr th {\n",
              "        vertical-align: top;\n",
              "    }\n",
              "\n",
              "    .dataframe thead th {\n",
              "        text-align: right;\n",
              "    }\n",
              "</style>\n",
              "<table border=\"1\" class=\"dataframe\">\n",
              "  <thead>\n",
              "    <tr style=\"text-align: right;\">\n",
              "      <th></th>\n",
              "      <th>Open</th>\n",
              "      <th>High</th>\n",
              "      <th>Low</th>\n",
              "      <th>Close</th>\n",
              "      <th>Adj Close</th>\n",
              "      <th>Volume</th>\n",
              "    </tr>\n",
              "    <tr>\n",
              "      <th>Datetime</th>\n",
              "      <th></th>\n",
              "      <th></th>\n",
              "      <th></th>\n",
              "      <th></th>\n",
              "      <th></th>\n",
              "      <th></th>\n",
              "    </tr>\n",
              "  </thead>\n",
              "  <tbody>\n",
              "    <tr>\n",
              "      <th>2020-06-10 09:30:00-04:00</th>\n",
              "      <td>191.125000</td>\n",
              "      <td>193.649994</td>\n",
              "      <td>191.009995</td>\n",
              "      <td>192.899994</td>\n",
              "      <td>192.899994</td>\n",
              "      <td>8973090</td>\n",
              "    </tr>\n",
              "    <tr>\n",
              "      <th>2020-06-10 10:30:00-04:00</th>\n",
              "      <td>192.910004</td>\n",
              "      <td>193.970001</td>\n",
              "      <td>192.710007</td>\n",
              "      <td>193.649994</td>\n",
              "      <td>193.649994</td>\n",
              "      <td>4063615</td>\n",
              "    </tr>\n",
              "    <tr>\n",
              "      <th>2020-06-10 11:30:00-04:00</th>\n",
              "      <td>193.649994</td>\n",
              "      <td>194.419998</td>\n",
              "      <td>192.809998</td>\n",
              "      <td>194.356995</td>\n",
              "      <td>194.356995</td>\n",
              "      <td>3265988</td>\n",
              "    </tr>\n",
              "    <tr>\n",
              "      <th>2020-06-10 12:30:00-04:00</th>\n",
              "      <td>194.354996</td>\n",
              "      <td>196.270706</td>\n",
              "      <td>194.085007</td>\n",
              "      <td>195.910004</td>\n",
              "      <td>195.910004</td>\n",
              "      <td>5472909</td>\n",
              "    </tr>\n",
              "    <tr>\n",
              "      <th>2020-06-10 13:30:00-04:00</th>\n",
              "      <td>195.899994</td>\n",
              "      <td>197.970001</td>\n",
              "      <td>194.750000</td>\n",
              "      <td>197.884995</td>\n",
              "      <td>197.884995</td>\n",
              "      <td>6382227</td>\n",
              "    </tr>\n",
              "  </tbody>\n",
              "</table>\n",
              "</div>"
            ],
            "text/plain": [
              "                                 Open        High  ...   Adj Close   Volume\n",
              "Datetime                                           ...                     \n",
              "2020-06-10 09:30:00-04:00  191.125000  193.649994  ...  192.899994  8973090\n",
              "2020-06-10 10:30:00-04:00  192.910004  193.970001  ...  193.649994  4063615\n",
              "2020-06-10 11:30:00-04:00  193.649994  194.419998  ...  194.356995  3265988\n",
              "2020-06-10 12:30:00-04:00  194.354996  196.270706  ...  195.910004  5472909\n",
              "2020-06-10 13:30:00-04:00  195.899994  197.970001  ...  197.884995  6382227\n",
              "\n",
              "[5 rows x 6 columns]"
            ]
          },
          "metadata": {
            "tags": []
          },
          "execution_count": 8
        }
      ]
    },
    {
      "cell_type": "code",
      "metadata": {
        "id": "ZfRNGz31DDvG"
      },
      "source": [
        "train = df[['Close']] "
      ],
      "execution_count": 11,
      "outputs": []
    },
    {
      "cell_type": "code",
      "metadata": {
        "colab": {
          "base_uri": "https://localhost:8080/"
        },
        "id": "mcZBcgAjDbcC",
        "outputId": "c4bd9642-d1c4-4526-9578-d49b042a006a"
      },
      "source": [
        "type(df[\"Close\"]) == type(df[[\"Close\"]])"
      ],
      "execution_count": 12,
      "outputs": [
        {
          "output_type": "execute_result",
          "data": {
            "text/plain": [
              "False"
            ]
          },
          "metadata": {
            "tags": []
          },
          "execution_count": 12
        }
      ]
    },
    {
      "cell_type": "code",
      "metadata": {
        "colab": {
          "base_uri": "https://localhost:8080/",
          "height": 297
        },
        "id": "eWH2kkcVDpAd",
        "outputId": "8b3e7917-cde0-475b-c99e-99dd765b44c9"
      },
      "source": [
        "train.describe()"
      ],
      "execution_count": 13,
      "outputs": [
        {
          "output_type": "execute_result",
          "data": {
            "text/html": [
              "<div>\n",
              "<style scoped>\n",
              "    .dataframe tbody tr th:only-of-type {\n",
              "        vertical-align: middle;\n",
              "    }\n",
              "\n",
              "    .dataframe tbody tr th {\n",
              "        vertical-align: top;\n",
              "    }\n",
              "\n",
              "    .dataframe thead th {\n",
              "        text-align: right;\n",
              "    }\n",
              "</style>\n",
              "<table border=\"1\" class=\"dataframe\">\n",
              "  <thead>\n",
              "    <tr style=\"text-align: right;\">\n",
              "      <th></th>\n",
              "      <th>Close</th>\n",
              "    </tr>\n",
              "  </thead>\n",
              "  <tbody>\n",
              "    <tr>\n",
              "      <th>count</th>\n",
              "      <td>1757.000000</td>\n",
              "    </tr>\n",
              "    <tr>\n",
              "      <th>mean</th>\n",
              "      <td>223.751309</td>\n",
              "    </tr>\n",
              "    <tr>\n",
              "      <th>std</th>\n",
              "      <td>17.960315</td>\n",
              "    </tr>\n",
              "    <tr>\n",
              "      <th>min</th>\n",
              "      <td>186.250000</td>\n",
              "    </tr>\n",
              "    <tr>\n",
              "      <th>25%</th>\n",
              "      <td>210.249207</td>\n",
              "    </tr>\n",
              "    <tr>\n",
              "      <th>50%</th>\n",
              "      <td>217.809998</td>\n",
              "    </tr>\n",
              "    <tr>\n",
              "      <th>75%</th>\n",
              "      <td>239.089996</td>\n",
              "    </tr>\n",
              "    <tr>\n",
              "      <th>max</th>\n",
              "      <td>262.179993</td>\n",
              "    </tr>\n",
              "  </tbody>\n",
              "</table>\n",
              "</div>"
            ],
            "text/plain": [
              "             Close\n",
              "count  1757.000000\n",
              "mean    223.751309\n",
              "std      17.960315\n",
              "min     186.250000\n",
              "25%     210.249207\n",
              "50%     217.809998\n",
              "75%     239.089996\n",
              "max     262.179993"
            ]
          },
          "metadata": {
            "tags": []
          },
          "execution_count": 13
        }
      ]
    },
    {
      "cell_type": "code",
      "metadata": {
        "colab": {
          "base_uri": "https://localhost:8080/",
          "height": 352
        },
        "id": "OO2fweayDvke",
        "outputId": "5bf43b10-137e-44ee-c214-e9c49f4d029f"
      },
      "source": [
        "plt.figure(1,figsize=(20,8))\n",
        "_ = plt.plot(train.Close)"
      ],
      "execution_count": 15,
      "outputs": [
        {
          "output_type": "display_data",
          "data": {
            "image/png": "[encoded data removed]",
            "text/plain": [
              "<Figure size 1440x576 with 1 Axes>"
            ]
          },
          "metadata": {
            "tags": [],
            "needs_background": "light"
          }
        }
      ]
    },
    {
      "cell_type": "markdown",
      "metadata": {
        "id": "2Nq25y_nFQ35"
      },
      "source": [
        "# Working on Feature "
      ]
    },
    {
      "cell_type": "markdown",
      "metadata": {
        "id": "el5j5JqxD9sO"
      },
      "source": [
        "## Percetage change\n",
        "Aim : We will be using % change to predict the prices instead of actual prices\n",
        "Reason: cause its bit normalised and easier to compare and forcast, better statistical properties. We man a stationary time series because stat properties such as mean, variance, correlation are constant over time\n",
        "\n"
      ]
    },
    {
      "cell_type": "code",
      "metadata": {
        "colab": {
          "base_uri": "https://localhost:8080/",
          "height": 357
        },
        "id": "JdtDsXvgD_Tt",
        "outputId": "4b5cbc6c-ec6e-4105-bd49-97e47bb1becd"
      },
      "source": [
        "train[\"returns\"] = train.Close.pct_change() // %change does is  Returns(N) =  Close(N) - Close (N-1)\n",
        "train.head()"
      ],
      "execution_count": 17,
      "outputs": [
        {
          "output_type": "stream",
          "text": [
            "/usr/local/lib/python3.7/dist-packages/ipykernel_launcher.py:1: SettingWithCopyWarning: \n",
            "A value is trying to be set on a copy of a slice from a DataFrame.\n",
            "Try using .loc[row_indexer,col_indexer] = value instead\n",
            "\n",
            "See the caveats in the documentation: https://pandas.pydata.org/pandas-docs/stable/user_guide/indexing.html#returning-a-view-versus-a-copy\n",
            "  \"\"\"Entry point for launching an IPython kernel.\n"
          ],
          "name": "stderr"
        },
        {
          "output_type": "execute_result",
          "data": {
            "text/html": [
              "<div>\n",
              "<style scoped>\n",
              "    .dataframe tbody tr th:only-of-type {\n",
              "        vertical-align: middle;\n",
              "    }\n",
              "\n",
              "    .dataframe tbody tr th {\n",
              "        vertical-align: top;\n",
              "    }\n",
              "\n",
              "    .dataframe thead th {\n",
              "        text-align: right;\n",
              "    }\n",
              "</style>\n",
              "<table border=\"1\" class=\"dataframe\">\n",
              "  <thead>\n",
              "    <tr style=\"text-align: right;\">\n",
              "      <th></th>\n",
              "      <th>Close</th>\n",
              "      <th>returns</th>\n",
              "    </tr>\n",
              "    <tr>\n",
              "      <th>Datetime</th>\n",
              "      <th></th>\n",
              "      <th></th>\n",
              "    </tr>\n",
              "  </thead>\n",
              "  <tbody>\n",
              "    <tr>\n",
              "      <th>2020-06-10 09:30:00-04:00</th>\n",
              "      <td>192.899994</td>\n",
              "      <td>NaN</td>\n",
              "    </tr>\n",
              "    <tr>\n",
              "      <th>2020-06-10 10:30:00-04:00</th>\n",
              "      <td>193.649994</td>\n",
              "      <td>0.003888</td>\n",
              "    </tr>\n",
              "    <tr>\n",
              "      <th>2020-06-10 11:30:00-04:00</th>\n",
              "      <td>194.356995</td>\n",
              "      <td>0.003651</td>\n",
              "    </tr>\n",
              "    <tr>\n",
              "      <th>2020-06-10 12:30:00-04:00</th>\n",
              "      <td>195.910004</td>\n",
              "      <td>0.007990</td>\n",
              "    </tr>\n",
              "    <tr>\n",
              "      <th>2020-06-10 13:30:00-04:00</th>\n",
              "      <td>197.884995</td>\n",
              "      <td>0.010081</td>\n",
              "    </tr>\n",
              "  </tbody>\n",
              "</table>\n",
              "</div>"
            ],
            "text/plain": [
              "                                Close   returns\n",
              "Datetime                                       \n",
              "2020-06-10 09:30:00-04:00  192.899994       NaN\n",
              "2020-06-10 10:30:00-04:00  193.649994  0.003888\n",
              "2020-06-10 11:30:00-04:00  194.356995  0.003651\n",
              "2020-06-10 12:30:00-04:00  195.910004  0.007990\n",
              "2020-06-10 13:30:00-04:00  197.884995  0.010081"
            ]
          },
          "metadata": {
            "tags": []
          },
          "execution_count": 17
        }
      ]
    },
    {
      "cell_type": "markdown",
      "metadata": {
        "id": "KspNi76IF9PA"
      },
      "source": [
        "## Log Returns\n",
        "Formula : r[i] = (P[i] - P[j])/P[j] where r is returns ar time i , P is price and j = i-1\n",
        "\n",
        "Reason : it helps us to measure all var in comparable metric"
      ]
    },
    {
      "cell_type": "code",
      "metadata": {
        "id": "ptgr_cbvFeZg"
      },
      "source": [
        ""
      ],
      "execution_count": null,
      "outputs": []
    }
  ]
}